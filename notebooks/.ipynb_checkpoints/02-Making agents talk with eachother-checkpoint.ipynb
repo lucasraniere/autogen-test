{
 "cells": [
  {
   "cell_type": "code",
   "execution_count": 1,
   "id": "fa0c846e-8fef-4bcc-b13a-5c8fc9cab143",
   "metadata": {
    "execution": {
     "iopub.execute_input": "2024-12-16T21:01:29.560169Z",
     "iopub.status.busy": "2024-12-16T21:01:29.559818Z",
     "iopub.status.idle": "2024-12-16T21:01:30.253267Z",
     "shell.execute_reply": "2024-12-16T21:01:30.252568Z",
     "shell.execute_reply.started": "2024-12-16T21:01:29.560116Z"
    }
   },
   "outputs": [],
   "source": [
    "import os\n",
    "from dotenv import load_dotenv\n",
    "\n",
    "from autogen import ConversableAgent\n",
    "\n",
    "load_dotenv()\n",
    "\n",
    "llm_config = {\n",
    "    \"config_list\": [{\n",
    "        \"model\": \"gpt-4o\",\n",
    "        \"api_key\": os.environ[\"API_KEY\"]\n",
    "    }]\n",
    "}"
   ]
  },
  {
   "cell_type": "code",
   "execution_count": 2,
   "id": "64795107-ad24-467e-9f2c-e876cc15f58b",
   "metadata": {
    "execution": {
     "iopub.execute_input": "2024-12-16T21:01:30.254550Z",
     "iopub.status.busy": "2024-12-16T21:01:30.254092Z",
     "iopub.status.idle": "2024-12-16T21:01:30.332657Z",
     "shell.execute_reply": "2024-12-16T21:01:30.330918Z",
     "shell.execute_reply.started": "2024-12-16T21:01:30.254511Z"
    }
   },
   "outputs": [
    {
     "name": "stdout",
     "output_type": "stream",
     "text": [
      "Why don't movie directors play hide and seek?\n",
      "\n",
      "Because good luck hiding when everyone’s drawn to your location!\n"
     ]
    }
   ],
   "source": [
    "agent = ConversableAgent(\n",
    "    \"chatbot\",\n",
    "    llm_config=llm_config,\n",
    "    code_execution_config=False,\n",
    "    function_map=None,\n",
    "    human_input_mode=\"NEVER\",\n",
    ")\n",
    "\n",
    "reply = agent.generate_reply(messages=[{\"content\": \"Tell me a joke about cinema.\", \"role\": \"user\"}])\n",
    "print(reply)"
   ]
  },
  {
   "cell_type": "code",
   "execution_count": 3,
   "id": "aec4c42f-e1b3-4810-bb40-6333374c1ed4",
   "metadata": {
    "execution": {
     "iopub.execute_input": "2024-12-16T21:01:30.335348Z",
     "iopub.status.busy": "2024-12-16T21:01:30.334820Z",
     "iopub.status.idle": "2024-12-16T21:01:30.363741Z",
     "shell.execute_reply": "2024-12-16T21:01:30.362917Z",
     "shell.execute_reply.started": "2024-12-16T21:01:30.335302Z"
    }
   },
   "outputs": [],
   "source": [
    "llm_config.update({\"temperature\":0.9})\n",
    "cathy = ConversableAgent(\n",
    "    \"cathy\",\n",
    "    system_message=\"Your name is Cathy and you are a part of a duo  of comedians.\",\n",
    "    llm_config = llm_config,\n",
    "    human_input_mode=\"NEVER\",\n",
    ")\n",
    "\n",
    "llm_config.update({\"temperature\":0.7})\n",
    "joe = ConversableAgent(\n",
    "    \"joe\",\n",
    "    system_message=\"Your name is Cathy and you are a part of a duo  of comedians.\",\n",
    "    llm_config = llm_config,\n",
    "    human_input_mode=\"NEVER\",\n",
    ")"
   ]
  },
  {
   "cell_type": "code",
   "execution_count": 4,
   "id": "62d137b5-c40f-4be9-9501-e3c684aea259",
   "metadata": {
    "execution": {
     "iopub.execute_input": "2024-12-16T21:01:30.364770Z",
     "iopub.status.busy": "2024-12-16T21:01:30.364489Z",
     "iopub.status.idle": "2024-12-16T21:01:30.464605Z",
     "shell.execute_reply": "2024-12-16T21:01:30.463781Z",
     "shell.execute_reply.started": "2024-12-16T21:01:30.364745Z"
    }
   },
   "outputs": [
    {
     "name": "stdout",
     "output_type": "stream",
     "text": [
      "\u001b[33mjoe\u001b[0m (to cathy):\n",
      "\n",
      "Cathy, tell me a joke.\n",
      "\n",
      "--------------------------------------------------------------------------------\n",
      "\u001b[33mcathy\u001b[0m (to joe):\n",
      "\n",
      "Why did the scarecrow win an award?\n",
      "\n",
      "Because he was outstanding in his field!\n",
      "\n",
      "--------------------------------------------------------------------------------\n",
      "\u001b[33mjoe\u001b[0m (to cathy):\n",
      "\n",
      "Classic, Cathy! That joke is always harvest-ing laughs.\n",
      "\n",
      "--------------------------------------------------------------------------------\n",
      "\u001b[33mcathy\u001b[0m (to joe):\n",
      "\n",
      "Cathy: Haha, nice one, Joe! With puns like that, we're bound to sow the seeds of laughter everywhere we go!\n",
      "\n",
      "--------------------------------------------------------------------------------\n",
      "\u001b[33mjoe\u001b[0m (to cathy):\n",
      "\n",
      "Joe: That's the spirit, Cathy! We're planting smiles and reaping the giggles—one joke at a time!\n",
      "\n",
      "--------------------------------------------------------------------------------\n",
      "\u001b[33mcathy\u001b[0m (to joe):\n",
      "\n",
      "Cathy: Absolutely, Joe! With our comedy crop rotation, every laugh is organic and always in season!\n",
      "\n",
      "--------------------------------------------------------------------------------\n"
     ]
    }
   ],
   "source": [
    "result = joe.initiate_chat(cathy, message=\"Cathy, tell me a joke.\", max_turns=3)"
   ]
  },
  {
   "cell_type": "code",
   "execution_count": null,
   "id": "b00cd883-9985-423d-bdd1-157380a0b675",
   "metadata": {},
   "outputs": [],
   "source": []
  }
 ],
 "metadata": {
  "kernelspec": {
   "display_name": "Python 3 (ipykernel)",
   "language": "python",
   "name": "python3"
  },
  "language_info": {
   "codemirror_mode": {
    "name": "ipython",
    "version": 3
   },
   "file_extension": ".py",
   "mimetype": "text/x-python",
   "name": "python",
   "nbconvert_exporter": "python",
   "pygments_lexer": "ipython3",
   "version": "3.13.1"
  }
 },
 "nbformat": 4,
 "nbformat_minor": 5
}
