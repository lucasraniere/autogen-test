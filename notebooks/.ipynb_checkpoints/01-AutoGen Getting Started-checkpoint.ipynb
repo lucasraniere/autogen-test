{
 "cells": [
  {
   "cell_type": "code",
   "execution_count": 1,
   "id": "2e89657b-babd-4e44-8a0b-5021cd10c877",
   "metadata": {
    "execution": {
     "iopub.execute_input": "2024-12-16T21:01:24.218602Z",
     "iopub.status.busy": "2024-12-16T21:01:24.218261Z",
     "iopub.status.idle": "2024-12-16T21:01:24.956899Z",
     "shell.execute_reply": "2024-12-16T21:01:24.956251Z",
     "shell.execute_reply.started": "2024-12-16T21:01:24.218570Z"
    }
   },
   "outputs": [],
   "source": [
    "import os\n",
    "from dotenv import load_dotenv\n",
    "\n",
    "from autogen import AssistantAgent, UserProxyAgent\n",
    "\n",
    "load_dotenv()\n",
    "\n",
    "llm_config = {\n",
    "    \"config_list\": [{\n",
    "        \"model\": \"gpt-4\",\n",
    "        \"api_key\": os.environ[\"API_KEY\"]\n",
    "    }]\n",
    "}"
   ]
  },
  {
   "cell_type": "code",
   "execution_count": 2,
   "id": "ed7e77b7-8c4c-40e0-941a-26d428db3265",
   "metadata": {
    "execution": {
     "iopub.execute_input": "2024-12-16T21:01:24.957701Z",
     "iopub.status.busy": "2024-12-16T21:01:24.957399Z",
     "iopub.status.idle": "2024-12-16T21:01:24.992302Z",
     "shell.execute_reply": "2024-12-16T21:01:24.991553Z",
     "shell.execute_reply.started": "2024-12-16T21:01:24.957680Z"
    }
   },
   "outputs": [],
   "source": [
    "assistant = AssistantAgent(\"assistant\", llm_config=llm_config)\n",
    "user_proxy = UserProxyAgent(\"user_proxy\", code_execution_config=False)"
   ]
  },
  {
   "cell_type": "code",
   "execution_count": 3,
   "id": "3a9b8705-5c71-4f8a-a051-b7318189f4ce",
   "metadata": {
    "execution": {
     "iopub.execute_input": "2024-12-16T21:01:24.993746Z",
     "iopub.status.busy": "2024-12-16T21:01:24.993417Z",
     "iopub.status.idle": "2024-12-16T21:01:43.566026Z",
     "shell.execute_reply": "2024-12-16T21:01:43.565276Z",
     "shell.execute_reply.started": "2024-12-16T21:01:24.993714Z"
    }
   },
   "outputs": [
    {
     "name": "stdout",
     "output_type": "stream",
     "text": [
      "\u001b[33muser_proxy\u001b[0m (to assistant):\n",
      "\n",
      "Tell me a joke about NVDA and TESLA stock prices.\n",
      "\n",
      "--------------------------------------------------------------------------------\n",
      "\u001b[33massistant\u001b[0m (to user_proxy):\n",
      "\n",
      "As an AI, my ability to create jokes is based on predefined formats. Here's a light-hearted attempt:\n",
      "\n",
      "\"Why don't NVDA and TESLA stocks play hide and seek? Because no matter where they hide, the market always finds a way to drive them up!\" \n",
      "\n",
      "Remember, this joke is fictional and does not reflect actual financial advice!\n",
      "\n",
      "--------------------------------------------------------------------------------\n"
     ]
    },
    {
     "name": "stdin",
     "output_type": "stream",
     "text": [
      "Replying as user_proxy. Provide feedback to assistant. Press enter to skip and use auto-reply, or type 'exit' to end the conversation:  exit\n"
     ]
    },
    {
     "data": {
      "text/plain": [
       "ChatResult(chat_id=None, chat_history=[{'content': 'Tell me a joke about NVDA and TESLA stock prices.', 'role': 'assistant', 'name': 'user_proxy'}, {'content': 'As an AI, my ability to create jokes is based on predefined formats. Here\\'s a light-hearted attempt:\\n\\n\"Why don\\'t NVDA and TESLA stocks play hide and seek? Because no matter where they hide, the market always finds a way to drive them up!\" \\n\\nRemember, this joke is fictional and does not reflect actual financial advice!', 'role': 'user', 'name': 'assistant'}], summary='As an AI, my ability to create jokes is based on predefined formats. Here\\'s a light-hearted attempt:\\n\\n\"Why don\\'t NVDA and TESLA stocks play hide and seek? Because no matter where they hide, the market always finds a way to drive them up!\" \\n\\nRemember, this joke is fictional and does not reflect actual financial advice!', cost={'usage_including_cached_inference': {'total_cost': 0.01884, 'gpt-4-0613': {'cost': 0.01884, 'prompt_tokens': 488, 'completion_tokens': 70, 'total_tokens': 558}}, 'usage_excluding_cached_inference': {'total_cost': 0}}, human_input=['exit'])"
      ]
     },
     "execution_count": 3,
     "metadata": {},
     "output_type": "execute_result"
    }
   ],
   "source": [
    "user_proxy.initiate_chat(\n",
    "    assistant,\n",
    "    message=\"Tell me a joke about NVDA and TESLA stock prices.\",\n",
    ")"
   ]
  }
 ],
 "metadata": {
  "kernelspec": {
   "display_name": "Python 3 (ipykernel)",
   "language": "python",
   "name": "python3"
  },
  "language_info": {
   "codemirror_mode": {
    "name": "ipython",
    "version": 3
   },
   "file_extension": ".py",
   "mimetype": "text/x-python",
   "name": "python",
   "nbconvert_exporter": "python",
   "pygments_lexer": "ipython3",
   "version": "3.13.1"
  }
 },
 "nbformat": 4,
 "nbformat_minor": 5
}
